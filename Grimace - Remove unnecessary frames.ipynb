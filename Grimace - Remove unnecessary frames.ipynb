{
 "cells": [
  {
   "cell_type": "code",
   "execution_count": null,
   "id": "creative-equation",
   "metadata": {},
   "outputs": [],
   "source": [
    "# By Rui Wang\n",
    "import os\n",
    "import time"
   ]
  },
  {
   "cell_type": "code",
   "execution_count": null,
   "id": "static-ukraine",
   "metadata": {},
   "outputs": [],
   "source": [
    "import os\n",
    "import time\n",
    "\n",
    "if __name__ == \"__main__\":\n",
    "    start = time.time()\n",
    "    jpgDir = \"E://Camcorder//frame_USDA-GEG_first_batch_male_before_collection//\"\n",
    "    jpgFiles = os.listdir(jpgDir)\n",
    "    fileList = []\n",
    "    with open(jpgDir + 'tokeep.txt', 'r') as f:\n",
    "        lines = f.readlines()\n",
    "        for line in lines:\n",
    "            fileList.append(line.rstrip())\n",
    "        #fileList = list(filter(None, fileList))\n",
    "    for jpgFile in jpgFiles:\n",
    "        if jpgFile.endswith('.jpg') and jpgFile[:-4] not in fileList:\n",
    "            os.remove(os.path.join(jpgDir, jpgFile))\n",
    "    end = time.time()\n",
    "    print('All unnecessary files deleted, which takes:' + str(end-start) + ' seconds.')"
   ]
  }
 ],
 "metadata": {
  "kernelspec": {
   "display_name": "Python [conda env:root] *",
   "language": "python",
   "name": "conda-root-py"
  },
  "language_info": {
   "codemirror_mode": {
    "name": "ipython",
    "version": 3
   },
   "file_extension": ".py",
   "mimetype": "text/x-python",
   "name": "python",
   "nbconvert_exporter": "python",
   "pygments_lexer": "ipython3",
   "version": "3.7.10"
  }
 },
 "nbformat": 4,
 "nbformat_minor": 5
}
