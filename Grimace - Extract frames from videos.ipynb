{
 "cells": [
  {
   "cell_type": "code",
   "execution_count": null,
   "id": "breeding-silver",
   "metadata": {},
   "outputs": [],
   "source": [
    "import subprocess\n",
    "import os"
   ]
  },
  {
   "cell_type": "code",
   "execution_count": null,
   "id": "hollywood-douglas",
   "metadata": {},
   "outputs": [],
   "source": [
    "# This function takes frames from video by -fps setup. Change -fps setting as you wish. Also set up video and frame folders accordingly.\n",
    "def videoFileName(videoDir,framesDir,ffmpegCmd):\n",
    "    videoFiles=os.listdir(videoDir)\n",
    "    for video in videoFiles:\n",
    "        sinVideoDir=os.path.join(videoDir,video)\n",
    "        if (sinVideoDir.endswith(\".MTS\")):\n",
    "            videoName=os.path.basename(sinVideoDir)\n",
    "            videoBaseName=videoName.rsplit('.')\n",
    "            curVideoFrameOut=framesDir+videoBaseName[0]+\"_%05d.jpg\"\n",
    "\n",
    "            video2framesCmd = ffmpegCmd + \" -i \" + sinVideoDir + \" -f image2 -vf fps=fps=1/2 -qscale:v 2 \" +curVideoFrameOut\n",
    "            subprocess.call(video2framesCmd, shell=True)\n",
    "\n",
    "if __name__ == \"__main__\":\n",
    "    ffmpegCmd = \"D://WinSoft//Green//Media//ffmpeg-4.4-full_build//bin//ffmpeg.exe\"\n",
    "    frameDir = \"D://Camcorder//frame_Shen2//\"\n",
    "    videoDir=\"D://Camcorder//video_Shen2//\"\n",
    "    videoFileName(videoDir,frameDir,ffmpegCmd)"
   ]
  }
 ],
 "metadata": {
  "kernelspec": {
   "display_name": "Python [conda env:root] *",
   "language": "python",
   "name": "conda-root-py"
  },
  "language_info": {
   "codemirror_mode": {
    "name": "ipython",
    "version": 3
   },
   "file_extension": ".py",
   "mimetype": "text/x-python",
   "name": "python",
   "nbconvert_exporter": "python",
   "pygments_lexer": "ipython3",
   "version": "3.7.10"
  }
 },
 "nbformat": 4,
 "nbformat_minor": 5
}
