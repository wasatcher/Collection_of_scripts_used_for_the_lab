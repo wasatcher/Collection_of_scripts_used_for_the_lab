{
 "cells": [
  {
   "cell_type": "code",
   "execution_count": 116,
   "id": "governing-chancellor",
   "metadata": {},
   "outputs": [],
   "source": [
    "import numpy as np\n",
    "import pandas as pd\n",
    "import os"
   ]
  },
  {
   "cell_type": "code",
   "execution_count": 117,
   "id": "particular-petroleum",
   "metadata": {},
   "outputs": [
    {
     "name": "stdout",
     "output_type": "stream",
     "text": [
      "(84, 3)\n"
     ]
    }
   ],
   "source": [
    "# load the Excel file\n",
    "directory = r'D:\\Research\\My project shen\\USDA-GEG-project\\OFT'\n",
    "file = 'Statistics-Open field test-rat USDA_all_processed_test.xlsx'\n",
    "df = pd.read_excel(f'{directory}/{file}',sheet_name = 'Analysis', engine='openpyxl')\n",
    "df=df.drop(columns=[\"Trial\"])\n",
    "print(df.shape)"
   ]
  },
  {
   "cell_type": "code",
   "execution_count": 118,
   "id": "organized-billion",
   "metadata": {},
   "outputs": [
    {
     "name": "stdout",
     "output_type": "stream",
     "text": [
      "            Rat  Center Frequency  Center Duration\n",
      "0   USDA-R29-w5                 0             0.00\n",
      "1   USDA-R29-w5                 4             4.20\n",
      "2   USDA-R29-w5                 6             7.52\n",
      "3    USDA-R6-w5                 1             0.36\n",
      "4    USDA-R6-w5                 1             0.52\n",
      "..          ...               ...              ...\n",
      "79  USDA-R31-w5                 0             0.00\n",
      "80  USDA-R31-w5                 0             0.00\n",
      "81  USDA-R33-w5                 1             1.16\n",
      "82  USDA-R33-w5                 0             0.00\n",
      "83  USDA-R33-w5                 0             0.00\n",
      "\n",
      "[84 rows x 3 columns]\n"
     ]
    }
   ],
   "source": [
    "print(df)"
   ]
  },
  {
   "cell_type": "code",
   "execution_count": 119,
   "id": "similar-contribution",
   "metadata": {},
   "outputs": [
    {
     "name": "stdout",
     "output_type": "stream",
     "text": [
      "            Rat  Center Frequency  Center Duration\n",
      "0   USDA-R29-w5                 0             0.00\n",
      "1   USDA-R29-w5                 4             4.20\n",
      "2   USDA-R29-w5                 6             7.52\n",
      "14  USDA-R27-w5                 0             0.00\n",
      "13  USDA-R27-w5                 0             0.00\n",
      "..          ...               ...              ...\n",
      "54  USDA-R26-w5                 0             0.00\n",
      "56  USDA-R26-w5                 0             0.00\n",
      "69   USDA-R5-w5                 4             5.92\n",
      "70   USDA-R5-w5                10             9.20\n",
      "71   USDA-R5-w5                14             9.20\n",
      "\n",
      "[84 rows x 3 columns]\n"
     ]
    }
   ],
   "source": [
    "# self-defined sort order. Below is the sequence before any rat died.\n",
    "# list_sorted = ['USDA-R29-w5', 'USDA-R27-w5', 'USDA-R11-w5', 'USDA-R14-w5', 'USDA-R9-w5', 'USDA-R21-w5', \n",
    "#                'USDA-R6-w5', 'USDA-R22-w5', 'USDA-R24-w5', 'USDA-R19-w5', 'USDA-R18-w5', 'USDA-R16-w5', \n",
    "#                'USDA-R8-w5', 'USDA-R13-w5', 'USDA-R10-w5', 'USDA-R4-w5', 'USDA-R2-w5', 'USDA-R31-w5', \n",
    "#                'USDA-R23-w5', 'USDA-R30-w5', 'USDA-R15-w5', 'USDA-R7-w5', 'USDA-R34-w5', 'USDA-R33-w5', \n",
    "#                'USDA-R35-w5', 'USDA-R28-w5', 'USDA-R32-w5', 'USDA-R26-w5', 'USDA-R5-w5', 'USDA-R20-w5', \n",
    "#                'USDA-R12-w5', 'USDA-R17-w5', 'USDA-R3-w5', 'USDA-R1-w5', 'USDA-R25-w5', 'USDA-R36-w5']\n",
    "list_sorted = ['USDA-R29-w5', 'USDA-R27-w5', 'USDA-R11-w5', 'USDA-R14-w5', 'USDA-R9-w5', 'USDA-R21-w5', \n",
    "               'USDA-R6-w5', 'USDA-R22-w5', 'USDA-R24-w5', 'USDA-R19-w5', 'USDA-R18-w5', 'USDA-R16-w5', \n",
    "               'USDA-R8-w5', 'USDA-R13-w5', 'USDA-R10-w5', 'USDA-R4-w5', 'USDA-R2-w5', 'USDA-R31-w5', \n",
    "               'USDA-R30-w5', 'USDA-R15-w5', 'USDA-R7-w5', 'USDA-R34-w5', 'USDA-R33-w5', \n",
    "               'USDA-R35-w5', 'USDA-R28-w5', 'USDA-R32-w5', 'USDA-R26-w5', 'USDA-R5-w5']\n",
    "df['Rat'] = df['Rat'].astype('category').cat.set_categories(list_sorted)\n",
    "df = df.sort_values(by=['Rat'], ascending=True)\n",
    "print(df)"
   ]
  },
  {
   "cell_type": "code",
   "execution_count": 120,
   "id": "strong-responsibility",
   "metadata": {},
   "outputs": [
    {
     "name": "stdout",
     "output_type": "stream",
     "text": [
      "            Rat  Center Frequency  Center Duration\n",
      "0   USDA-R29-w5                 0             0.00\n",
      "1   USDA-R27-w5                 1             0.44\n",
      "2   USDA-R11-w5                 0             0.00\n",
      "3   USDA-R14-w5                 0             0.00\n",
      "4    USDA-R9-w5                 0             0.00\n",
      "5   USDA-R21-w5                 0             0.00\n",
      "6    USDA-R6-w5                 1             0.36\n",
      "7   USDA-R22-w5                 0             0.00\n",
      "8   USDA-R24-w5                 0             0.00\n",
      "9   USDA-R19-w5                 3             8.88\n",
      "10  USDA-R18-w5                 0             0.00\n",
      "11  USDA-R16-w5                 1             0.52\n",
      "12   USDA-R8-w5                 7             9.12\n",
      "13  USDA-R13-w5                 0             0.00\n",
      "14  USDA-R10-w5                 0             0.00\n",
      "15   USDA-R4-w5                10            14.20\n",
      "16   USDA-R2-w5                 0             0.00\n",
      "17  USDA-R31-w5                 0             0.00\n",
      "18  USDA-R30-w5                 0             0.00\n",
      "19  USDA-R15-w5                 0             0.00\n",
      "20   USDA-R7-w5                 0             0.00\n",
      "21  USDA-R34-w5                 0             0.00\n",
      "22  USDA-R33-w5                 1             1.16\n",
      "23  USDA-R35-w5                 0             0.00\n",
      "24  USDA-R28-w5                 3             4.60\n",
      "25  USDA-R32-w5                 4             2.32\n",
      "26  USDA-R26-w5                 0             0.00\n",
      "27   USDA-R5-w5                 4             5.92\n",
      "            Rat  Center Frequency  Center Duration\n",
      "0   USDA-R29-w5                 4             4.20\n",
      "1   USDA-R27-w5                 0             0.00\n",
      "2   USDA-R11-w5                 1             1.16\n",
      "3   USDA-R14-w5                 0             0.00\n",
      "4    USDA-R9-w5                 0             0.00\n",
      "5   USDA-R21-w5                 0             0.00\n",
      "6    USDA-R6-w5                 1             0.52\n",
      "7   USDA-R22-w5                 0             0.00\n",
      "8   USDA-R24-w5                 1             0.08\n",
      "9   USDA-R19-w5                 0             0.00\n",
      "10  USDA-R18-w5                 0             0.00\n",
      "11  USDA-R16-w5                 3             2.96\n",
      "12   USDA-R8-w5                 5             5.44\n",
      "13  USDA-R13-w5                 0             0.00\n",
      "14  USDA-R10-w5                 0             0.00\n",
      "15   USDA-R4-w5                12            27.72\n",
      "16   USDA-R2-w5                 0             0.00\n",
      "17  USDA-R31-w5                 0             0.00\n",
      "18  USDA-R30-w5                 2             1.96\n",
      "19  USDA-R15-w5                 0             0.00\n",
      "20   USDA-R7-w5                 1             0.68\n",
      "21  USDA-R34-w5                 1             4.20\n",
      "22  USDA-R33-w5                 0             0.00\n",
      "23  USDA-R35-w5                 0             0.00\n",
      "24  USDA-R28-w5                11            35.96\n",
      "25  USDA-R32-w5                11             9.36\n",
      "26  USDA-R26-w5                 0             0.00\n",
      "27   USDA-R5-w5                10             9.20\n",
      "            Rat  Center Frequency  Center Duration\n",
      "0   USDA-R29-w5                 6             7.52\n",
      "1   USDA-R27-w5                 0             0.00\n",
      "2   USDA-R11-w5                 0             0.00\n",
      "3   USDA-R14-w5                 1             0.48\n",
      "4    USDA-R9-w5                 0             0.00\n",
      "5   USDA-R21-w5                 1             1.72\n",
      "6    USDA-R6-w5                 0             0.00\n",
      "7   USDA-R22-w5                 0             0.00\n",
      "8   USDA-R24-w5                 0             0.00\n",
      "9   USDA-R19-w5                 0             0.00\n",
      "10  USDA-R18-w5                 3             4.80\n",
      "11  USDA-R16-w5                 1             2.04\n",
      "12   USDA-R8-w5                 2             0.32\n",
      "13  USDA-R13-w5                 0             0.00\n",
      "14  USDA-R10-w5                 2             6.52\n",
      "15   USDA-R4-w5                 8            21.08\n",
      "16   USDA-R2-w5                 0             0.00\n",
      "17  USDA-R31-w5                 0             0.00\n",
      "18  USDA-R30-w5                 9            13.88\n",
      "19  USDA-R15-w5                 0             0.00\n",
      "20   USDA-R7-w5                 0             0.00\n",
      "21  USDA-R34-w5                 0             0.00\n",
      "22  USDA-R33-w5                 0             0.00\n",
      "23  USDA-R35-w5                 0             0.00\n",
      "24  USDA-R28-w5                18            27.00\n",
      "25  USDA-R32-w5                29            22.84\n",
      "26  USDA-R26-w5                 0             0.00\n",
      "27   USDA-R5-w5                14             9.20\n"
     ]
    }
   ],
   "source": [
    "# df1 = df[df.index % 3 == 0].reset_index().drop(columns=[\"index\"])\n",
    "# print(df1)\n",
    "# df2 = df[df.index % 3 == 1].reset_index().drop(columns=[\"index\"])\n",
    "# print(df2)\n",
    "# df3 = df[df.index % 3 == 2].reset_index().drop(columns=[\"index\"])\n",
    "# print(df3)\n",
    "df_list = ['df1','df2','df3']\n",
    "for i in range(3):\n",
    "    df_list[i] = df[df.index % 3 == i].reset_index().drop(columns=[\"index\"])\n",
    "    print(df_list[i])"
   ]
  },
  {
   "cell_type": "code",
   "execution_count": 121,
   "id": "powered-diversity",
   "metadata": {},
   "outputs": [
    {
     "name": "stdout",
     "output_type": "stream",
     "text": [
      "            Rat  Center Frequency  Center Duration\n",
      "0   USDA-R29-w5                10            11.72\n",
      "1   USDA-R27-w5                 1             0.44\n",
      "2   USDA-R11-w5                 1             1.16\n",
      "3   USDA-R14-w5                 1             0.48\n",
      "4    USDA-R9-w5                 0             0.00\n",
      "5   USDA-R21-w5                 1             1.72\n",
      "6    USDA-R6-w5                 2             0.88\n",
      "7   USDA-R22-w5                 0             0.00\n",
      "8   USDA-R24-w5                 1             0.08\n",
      "9   USDA-R19-w5                 3             8.88\n",
      "10  USDA-R18-w5                 3             4.80\n",
      "11  USDA-R16-w5                 5             5.52\n",
      "12   USDA-R8-w5                14            14.88\n",
      "13  USDA-R13-w5                 0             0.00\n",
      "14  USDA-R10-w5                 2             6.52\n",
      "15   USDA-R4-w5                30            63.00\n",
      "16   USDA-R2-w5                 0             0.00\n",
      "17  USDA-R31-w5                 0             0.00\n",
      "18  USDA-R30-w5                11            15.84\n",
      "19  USDA-R15-w5                 0             0.00\n",
      "20   USDA-R7-w5                 1             0.68\n",
      "21  USDA-R34-w5                 1             4.20\n",
      "22  USDA-R33-w5                 1             1.16\n",
      "23  USDA-R35-w5                 0             0.00\n",
      "24  USDA-R28-w5                32            67.56\n",
      "25  USDA-R32-w5                44            34.52\n",
      "26  USDA-R26-w5                 0             0.00\n",
      "27   USDA-R5-w5                28            24.32\n"
     ]
    }
   ],
   "source": [
    "df4 = df.groupby(by='Rat').agg(\"sum\").reset_index()\n",
    "print(df4)"
   ]
  },
  {
   "cell_type": "code",
   "execution_count": 124,
   "id": "norwegian-screw",
   "metadata": {},
   "outputs": [
    {
     "name": "stdout",
     "output_type": "stream",
     "text": [
      "   Control  SHAM  SNL SNL+LowGEG SNL+MedGEG\n",
      "0        0     1    7                     0\n",
      "1        1     0    0          0          3\n",
      "2        0     0    0          0          4\n",
      "3        0     3   10          0          0\n",
      "4        0     0    0          0          4\n",
      "5        0     1    0          1           \n",
      "   Control  SHAM  SNL SNL+LowGEG SNL+MedGEG\n",
      "0        4     1    5                     0\n",
      "1        0     0    0          2         11\n",
      "2        1     1    0          0         11\n",
      "3        0     0   12          1          0\n",
      "4        0     0    0          1         10\n",
      "5        0     3    0          0           \n",
      "   Control  SHAM  SNL SNL+LowGEG SNL+MedGEG\n",
      "0        6     0    2                     0\n",
      "1        0     0    0          9         18\n",
      "2        0     0    2          0         29\n",
      "3        1     0    8          0          0\n",
      "4        0     3    0          0         14\n",
      "5        1     1    0          0           \n",
      "   Control  SHAM    SNL SNL+LowGEG SNL+MedGEG\n",
      "0     0.00  0.36   9.12                     0\n",
      "1     0.44  0.00   0.00          0        4.6\n",
      "2     0.00  0.00   0.00          0       2.32\n",
      "3     0.00  8.88  14.20          0          0\n",
      "4     0.00  0.00   0.00          0       5.92\n",
      "5     0.00  0.52   0.00       1.16           \n",
      "   Control  SHAM    SNL SNL+LowGEG SNL+MedGEG\n",
      "0     4.20  0.52   5.44                     0\n",
      "1     0.00  0.00   0.00       1.96      35.96\n",
      "2     1.16  0.08   0.00          0       9.36\n",
      "3     0.00  0.00  27.72       0.68          0\n",
      "4     0.00  0.00   0.00        4.2        9.2\n",
      "5     0.00  2.96   0.00          0           \n",
      "   Control  SHAM    SNL SNL+LowGEG SNL+MedGEG\n",
      "0     7.52  0.00   0.32                     0\n",
      "1     0.00  0.00   0.00      13.88         27\n",
      "2     0.00  0.00   6.52          0      22.84\n",
      "3     0.48  0.00  21.08          0          0\n",
      "4     0.00  4.80   0.00          0        9.2\n",
      "5     1.72  2.04   0.00          0           \n"
     ]
    }
   ],
   "source": [
    "CF_list = ['CF1','CF2','CF3','CF4']\n",
    "for i in range(3):\n",
    "    CF=df_list[i][\"Center Frequency\"].tolist()\n",
    "    CF.insert(18,'')\n",
    "    CF.insert(29,'')\n",
    "    CF_list[i] = pd.DataFrame({'Control':CF[0:6],'SHAM':CF[6:12],'SNL':CF[12:18],'SNL+LowGEG':CF[18:24],'SNL+MedGEG':CF[24:30]},\n",
    "                              columns=['Control','SHAM','SNL','SNL+LowGEG','SNL+MedGEG'])\n",
    "    print(CF_list[i])\n",
    "CD_list = ['CD1','CD2','CD3','CD4']\n",
    "for i in range(3):\n",
    "    CD=df_list[i][\"Center Duration\"].tolist()\n",
    "    CD.insert(18,'')\n",
    "    CD.insert(29,'')\n",
    "    CD_list[i] = pd.DataFrame({'Control':CD[0:6],'SHAM':CD[6:12],'SNL':CD[12:18],'SNL+LowGEG':CD[18:24],'SNL+MedGEG':CD[24:30]},\n",
    "                              columns=['Control','SHAM','SNL','SNL+LowGEG','SNL+MedGEG'])\n",
    "    print(CD_list[i])"
   ]
  },
  {
   "cell_type": "code",
   "execution_count": 125,
   "id": "decent-symposium",
   "metadata": {},
   "outputs": [
    {
     "name": "stdout",
     "output_type": "stream",
     "text": [
      "   Control  SHAM  SNL SNL+LowGEG SNL+MedGEG\n",
      "0       10     2   14                     0\n",
      "1        1     0    0         11         32\n",
      "2        1     1    2          0         44\n",
      "3        1     3   30          1          0\n",
      "4        0     3    0          1         28\n",
      "5        1     5    0          1           \n",
      "   Control  SHAM    SNL SNL+LowGEG SNL+MedGEG\n",
      "0    11.72  0.88  14.88                     0\n",
      "1     0.44  0.00   0.00      15.84      67.56\n",
      "2     1.16  0.08   6.52          0      34.52\n",
      "3     0.48  8.88  63.00       0.68          0\n",
      "4     0.00  4.80   0.00        4.2      24.32\n",
      "5     1.72  5.52   0.00       1.16           \n"
     ]
    }
   ],
   "source": [
    "CF=df4[\"Center Frequency\"].tolist()\n",
    "CF.insert(18,'')\n",
    "CF.insert(29,'')\n",
    "CF4 = pd.DataFrame({'Control':CF[0:6],'SHAM':CF[6:12],'SNL':CF[12:18],'SNL+LowGEG':CF[18:24],'SNL+MedGEG':CF[24:30]},columns=['Control','SHAM','SNL','SNL+LowGEG','SNL+MedGEG'])\n",
    "print(CF4)\n",
    "CD=df4[\"Center Duration\"].tolist()\n",
    "CD.insert(18,'')\n",
    "CD.insert(29,'')\n",
    "CD4 = pd.DataFrame({'Control':CD[0:6],'SHAM':CD[6:12],'SNL':CD[12:18],'SNL+LowGEG':CD[18:24],'SNL+MedGEG':CD[24:30]},columns=['Control','SHAM','SNL','SNL+LowGEG','SNL+MedGEG'])\n",
    "print(CD4)"
   ]
  },
  {
   "cell_type": "code",
   "execution_count": 132,
   "id": "complex-toronto",
   "metadata": {},
   "outputs": [],
   "source": [
    "# save_path = r'D:\\Research\\My project shen\\USDA-GEG-project\\OFT\\USDA_1st_Male_OFT_before_collection.xlsx'\n",
    "# writer = pd.ExcelWriter(save_path)\n",
    "# df1_CF.to_excel(writer,sheet_name='Center_Frequency_1st_5min',index=False)\n",
    "# df1_CD.to_excel(writer,sheet_name='Center_Duration_1st_5min',index=False)\n",
    "# df2_CF.to_excel(writer,sheet_name='Center_Frequency_2nd_5min',index=False)\n",
    "# df2_CD.to_excel(writer,sheet_name='Center_Duration_2nd_5min',index=False)\n",
    "# df3_CF.to_excel(writer,sheet_name='Center_Frequency_3rd_5min',index=False)\n",
    "# df3_CD.to_excel(writer,sheet_name='Center_Duration_3rd_5min',index=False)\n",
    "# df4_CF.to_excel(writer,sheet_name='Center_Frequency_15min',index=False)\n",
    "# df4_CD.to_excel(writer,sheet_name='Center_Duration_15min',index=False)\n",
    "# writer.save() # key step to make sure the following sheets won't overide the sheets before\n",
    "save_path = r'D:\\Research\\My project shen\\USDA-GEG-project\\OFT\\USDA_1st_Male_OFT_before_collection.xlsx'\n",
    "writer = pd.ExcelWriter(save_path)\n",
    "for i in range(3):\n",
    "    CF_list[i].to_excel(writer,sheet_name='Center_Frequency_'+str(i+1)+'x_5min',index=False)\n",
    "    CD_list[i].to_excel(writer,sheet_name='Center_Duration_'+str(i+1)+'x_5min',index=False)\n",
    "CF4.to_excel(writer,sheet_name='Center_Frequency_15min',index=False)\n",
    "CD4.to_excel(writer,sheet_name='Center_Duration_15min',index=False)\n",
    "writer.save() # key step to make sure the following sheets won't overide the sheets before"
   ]
  }
 ],
 "metadata": {
  "kernelspec": {
   "display_name": "Python [conda env:root] *",
   "language": "python",
   "name": "conda-root-py"
  },
  "language_info": {
   "codemirror_mode": {
    "name": "ipython",
    "version": 3
   },
   "file_extension": ".py",
   "mimetype": "text/x-python",
   "name": "python",
   "nbconvert_exporter": "python",
   "pygments_lexer": "ipython3",
   "version": "3.7.10"
  }
 },
 "nbformat": 4,
 "nbformat_minor": 5
}
